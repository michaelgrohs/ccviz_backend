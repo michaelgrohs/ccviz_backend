{
 "metadata": {
  "language_info": {
   "codemirror_mode": {
    "name": "ipython",
    "version": 3
   },
   "file_extension": ".py",
   "mimetype": "text/x-python",
   "name": "python",
   "nbconvert_exporter": "python",
   "pygments_lexer": "ipython3",
   "version": "3.10.0-final"
  },
  "orig_nbformat": 2,
  "kernelspec": {
   "name": "python3",
   "display_name": "Python 3.10.0 64-bit",
   "metadata": {
    "interpreter": {
     "hash": "98590ff4fe04c8543246b2a01debd3de3c5ca9b666f43f1fa87d5110c692004c"
    }
   }
  }
 },
 "nbformat": 4,
 "nbformat_minor": 2,
 "cells": [
  {
   "source": [
    "# We import the neccessary packages in the beginning\n",
    "import os\n",
    "import math\n",
    "from statistics import mean,stdev\n",
    "import pm4py\n",
    "from pm4py.objects.conversion.log import converter as log_converter\n",
    "from pm4py.objects.conversion.bpmn import converter as bpmn_converter\n",
    "from sklearn.impute import SimpleImputer\n",
    "import copy\n",
    "import numpy as np\n",
    "import pandas as pd\n",
    "import pickle\n",
    "import torch\n",
    "import torch.nn as nn\n",
    "import torch.optim as optim\n",
    "from torch.utils.data import Dataset, DataLoader\n",
    "from imblearn.under_sampling import OneSidedSelection\n",
    "from sklearn.preprocessing import StandardScaler    \n",
    "from sklearn.model_selection import train_test_split\n",
    "from sklearn.metrics import confusion_matrix, classification_report\n",
    "import sklearn\n",
    "import tqdm\n",
    "import time\n",
    "import xgboost as xgb"
   ],
   "cell_type": "code",
   "metadata": {},
   "execution_count": 1,
   "outputs": []
  },
  {
   "source": [
    "# Returns a path to the file selected by the user\n",
    "# Input: The folder in which to look for the files - the default is the current folder\n",
    "def ask_for_path(rel_path='', index = -1):\n",
    "    #Crawl all files in the input folder\n",
    "    print(\"The following files are available in the input folder:\\n\")\n",
    "\n",
    "    count = 0\n",
    "    file_list = os.listdir(os.getcwd() + rel_path)\n",
    "    for file in file_list:\n",
    "        print(str(count) + \" - \" + file)\n",
    "        count+=1\n",
    "\n",
    "    if(index == -1):\n",
    "        #Ask for which of the files shall be transformed and select it.\n",
    "        inp = input(\"Please choose from the list above which of the files shall be transformed by typing the corresponding number.\")\n",
    "    else:\n",
    "        #Automatic iteration\n",
    "        print('Automatic Iteration.')\n",
    "        inp = index\n",
    "\n",
    "    input_file = file_list[int(inp)]\n",
    "\n",
    "    return (os.getcwd() + rel_path + input_file)"
   ],
   "cell_type": "code",
   "metadata": {},
   "execution_count": 2,
   "outputs": []
  },
  {
   "cell_type": "code",
   "execution_count": 3,
   "metadata": {},
   "outputs": [],
   "source": [
    "# this is a help function to print petri nets\n",
    "def output_petri_net(net, initial_marking, final_marking, file_name, label):\n",
    "\n",
    "    #init visualizer\n",
    "    parameters = {pn_visualizer.Variants.FREQUENCY.value.Parameters.FORMAT: OUTPUT_FORMAT, 'label':'The Round Table'}   #Add frequency to graph\n",
    "    gviz = pn_visualizer.apply(net, initial_marking, final_marking, parameters=parameters,\n",
    "                               variant=pn_visualizer.Variants.FREQUENCY, log=log)\n",
    "\n",
    "    gviz.attr(label=label)\n",
    "    pn_visualizer.save(gviz, os.getcwd() + REL_OUTPUT_PATH + file_name + \".\" + OUTPUT_FORMAT)"
   ]
  },
  {
   "cell_type": "code",
   "execution_count": 5,
   "metadata": {},
   "outputs": [],
   "source": [
    "# this function converts a selected file in the path that is the input into a log\n",
    "def transform_to_log(file_path):\n",
    "    filename, file_extension = os.path.splitext(file_path)\n",
    "    x,z =os.path.split(file_path)\n",
    "    \n",
    "    if file_extension == '.csv':\n",
    "        log_csv = pd.read_csv(file,sep=None,encoding='utf-8-sig')\n",
    "        if z =='mobis_challenge_log_2019.csv' or z =='mobis_challenge_log_2019_only_complete_cases.csv':\n",
    "            log_csv['end'] = pd.to_datetime(log_csv['end'])\n",
    "            log_csv['start'] = pd.to_datetime(log_csv['start'])\n",
    "            log_csv['cost'] = log_csv['cost'].apply(pd.to_numeric, errors='coerce')\n",
    "            log_csv.rename(columns={'cost': 'case:cost','case':'case:concept:name','activity':'concept:name','end':'time:timestamp', 'user':'org:resource'}, inplace=True)\n",
    "        elif z =='mobis_challenge_log_2019_original.csv':\n",
    "            log_csv['end'] = pd.to_datetime(log_csv['end'])\n",
    "            log_csv['start'] = pd.to_datetime(log_csv['start'])\n",
    "            log_csv['cost'] = log_csv['cost'].apply(pd.to_numeric, errors='coerce')\n",
    "            log_csv.rename(columns={'case':'case:concept:name','activity':'concept:name','start':'time:timestamp', 'user':'org:resource'}, inplace=True)\n",
    "        log_csv['time:timestamp'] = pd.to_datetime(log_csv['time:timestamp'], format='mixed')\n",
    "        log = log_converter.apply(log_csv)\n",
    "\n",
    "    elif file_extension == '.xes':\n",
    "        log = pm4py.read_xes(file_path)\n",
    "        log = pm4py.convert_to_event_log(log)\n",
    "    elif file_extension == '.dfg':\n",
    "        log = pm4py.read_dfg(file_path)\n",
    "    else:\n",
    "        print(\"Current filetype is equal to {}. \\nPlease input a file with any of the following extensions: - csv; - xes; - dfg\".format(str(file_extension)))\n",
    "        return -1\n",
    "\n",
    "    return log"
   ]
  },
  {
   "cell_type": "code",
   "execution_count": 6,
   "metadata": {},
   "outputs": [],
   "source": [
    "def get_all_activities_from_log(log):\n",
    "    activities=[]\n",
    "    for trace in log:\n",
    "        for event in trace:\n",
    "            if activities.count(event['concept:name'])==0:\n",
    "                activities.append(event['concept:name'])\n",
    "    return activities"
   ]
  },
  {
   "cell_type": "code",
   "execution_count": 94,
   "metadata": {},
   "outputs": [],
   "source": [
    "##########\n",
    "\"\"\"Settings\"\"\"\n",
    "##########\n",
    "# set the input and output path according to the files you want to select\n",
    "REL_INPUT_PATH = \"/uploads/\" # here lie the event logs (.csv), the to-be model (.bpmn) and the already aligned traces (.pkl)"
   ]
  },
  {
   "cell_type": "code",
   "execution_count": 129,
   "metadata": {},
   "outputs": [
    {
     "name": "stdout",
     "output_type": "stream",
     "text": [
      "The following files are available in the input folder:\n",
      "\n",
      "0 - sepsis.xes\n",
      "1 - Road_Traffic_Fine_Management_Process.xes\n",
      "2 - .DS_Store\n",
      "3 - road_traffic.bpmn\n",
      "4 - Model_DomesticDeclarations.bpmn\n",
      "5 - Model_RequestForPayment.bpmn\n",
      "6 - InternationalDeclarations.xes\n",
      "7 - loan_application.xes\n",
      "8 - Model_PrepaidTravelCost.bpmn\n",
      "9 - sepsis.bpmn\n",
      "10 - BPIC12_Log_onlyA.csv\n",
      "11 - default.xes\n",
      "12 - BPIC12_Log_onlyO.csv\n",
      "13 - Model_A_corrected.bpmn\n",
      "14 - RequestForPayment.xes\n",
      "15 - PrepaidTravelCost.xes\n",
      "16 - DomesticDeclarations.xes\n",
      "17 - default.bpmn\n",
      "18 - Model_InternationalDeclarations.bpmn\n",
      "19 - loan_application_simple.bpmn\n",
      "20 - Model_O.bpmn\n",
      "Automatic Iteration.\n"
     ]
    },
    {
     "data": {
      "text/plain": "parsing log, completed traces ::   0%|          | 0/6886 [00:00<?, ?it/s]",
      "application/vnd.jupyter.widget-view+json": {
       "version_major": 2,
       "version_minor": 0,
       "model_id": "17f3e4db7eb24c0ba72a4614801cf498"
      }
     },
     "metadata": {},
     "output_type": "display_data"
    },
    {
     "name": "stdout",
     "output_type": "stream",
     "text": [
      "The following files are available in the input folder:\n",
      "\n",
      "0 - sepsis.xes\n",
      "1 - Road_Traffic_Fine_Management_Process.xes\n",
      "2 - .DS_Store\n",
      "3 - road_traffic.bpmn\n",
      "4 - Model_DomesticDeclarations.bpmn\n",
      "5 - Model_RequestForPayment.bpmn\n",
      "6 - InternationalDeclarations.xes\n",
      "7 - loan_application.xes\n",
      "8 - Model_PrepaidTravelCost.bpmn\n",
      "9 - sepsis.bpmn\n",
      "10 - BPIC12_Log_onlyA.csv\n",
      "11 - default.xes\n",
      "12 - BPIC12_Log_onlyO.csv\n",
      "13 - Model_A_corrected.bpmn\n",
      "14 - RequestForPayment.xes\n",
      "15 - PrepaidTravelCost.xes\n",
      "16 - DomesticDeclarations.xes\n",
      "17 - default.bpmn\n",
      "18 - Model_InternationalDeclarations.bpmn\n",
      "19 - loan_application_simple.bpmn\n",
      "20 - Model_O.bpmn\n",
      "Automatic Iteration.\n"
     ]
    }
   ],
   "source": [
    "# generate the log from the input path\n",
    "file= ask_for_path(REL_INPUT_PATH,14) # adjust to your path\n",
    "log=transform_to_log(file)\n",
    "file= ask_for_path(REL_INPUT_PATH,5) # adjust to your path\n",
    "bpmn=pm4py.read_bpmn(file)\n"
   ]
  },
  {
   "cell_type": "code",
   "execution_count": 130,
   "outputs": [],
   "source": [
    "from pm4py.statistics.traces.generic.log import case_statistics\n",
    "from pm4py.objects.petri_net.utils import petri_utils\n",
    "\n",
    "def print_log_petri_stats(event_log, petri_net, initial_marking, final_marking):\n",
    "    \"\"\"\n",
    "    Prints statistics for a given event log and Petri net process model.\n",
    "\n",
    "    Parameters:\n",
    "    - event_log: pm4py EventLog object\n",
    "    - petri_net: pm4py PetriNet object\n",
    "    - initial_marking: pm4py Marking object (initial marking of the Petri net)\n",
    "    - final_marking: pm4py Marking object (final marking of the Petri net)\n",
    "    \"\"\"\n",
    "\n",
    "    # Number of traces\n",
    "    num_traces = len(event_log)\n",
    "\n",
    "    # Number of variants\n",
    "    variants_count = len(case_statistics.get_variant_statistics(event_log))\n",
    "\n",
    "    # Number of activities in Petri net (transitions with a label)\n",
    "    activities_in_model = len([t.label for t in petri_net.transitions if t.label is not None])\n",
    "\n",
    "    # Average number of activities per trace\n",
    "    avg_activities_per_trace = sum(len(trace) for trace in event_log) / num_traces if num_traces > 0 else 0\n",
    "\n",
    "    # Number of event attributes\n",
    "    event_attrs = set()\n",
    "    for trace in event_log:\n",
    "        for event in trace:\n",
    "            event_attrs.update(event.keys())\n",
    "    num_event_attrs = len(event_attrs)\n",
    "\n",
    "    # Number of trace attributes\n",
    "    trace_attrs = set()\n",
    "    for trace in event_log:\n",
    "        trace_attrs.update(trace.attributes.keys())\n",
    "    num_trace_attrs = len(trace_attrs)\n",
    "\n",
    "    # Print results\n",
    "    print(\"📊 Event Log + Petri Net Statistics:\")\n",
    "    print(f\"- Number of traces: {num_traces}\")\n",
    "    print(f\"- Number of variants: {variants_count}\")\n",
    "    print(f\"- Number of activities in process model: {activities_in_model}\")\n",
    "    print(f\"- Average number of activities per trace: {avg_activities_per_trace:.2f}\")\n",
    "    print(f\"- Number of event attributes: {num_event_attrs}\")\n",
    "    print(f\"- Number of trace attributes: {num_trace_attrs}\")\n"
   ],
   "metadata": {
    "collapsed": false
   }
  },
  {
   "cell_type": "code",
   "execution_count": 131,
   "outputs": [
    {
     "name": "stdout",
     "output_type": "stream",
     "text": [
      "📊 Event Log + Petri Net Statistics:\n",
      "- Number of traces: 6886\n",
      "- Number of variants: 89\n",
      "- Number of activities in process model: 13\n",
      "- Average number of activities per trace: 5.34\n",
      "- Number of event attributes: 5\n",
      "- Number of trace attributes: 9\n"
     ]
    }
   ],
   "source": [
    "net, initial_marking, final_marking = pm4py.convert.convert_to_petri_net(bpmn)\n",
    "print_log_petri_stats(log, net, initial_marking, final_marking)"
   ],
   "metadata": {
    "collapsed": false
   }
  },
  {
   "cell_type": "code",
   "execution_count": 113,
   "outputs": [
    {
     "data": {
      "text/plain": "17"
     },
     "execution_count": 113,
     "metadata": {},
     "output_type": "execute_result"
    }
   ],
   "source": [
    "len(pm4py.statistics.traces.generic.log.case_statistics.get_variant_statistics(log))"
   ],
   "metadata": {
    "collapsed": false
   }
  },
  {
   "cell_type": "code",
   "execution_count": 72,
   "outputs": [
    {
     "data": {
      "text/plain": "['concept:name', 'Unnamed: 0', 'org:resource']"
     },
     "execution_count": 72,
     "metadata": {},
     "output_type": "execute_result"
    }
   ],
   "source": [
    "event_attribtues=pm4py.get_event_attributes(log)\n",
    "event_attribtues.remove('time:timestamp')\n",
    "event_attribtues"
   ],
   "metadata": {
    "collapsed": false
   }
  },
  {
   "cell_type": "code",
   "execution_count": 73,
   "outputs": [
    {
     "data": {
      "text/plain": "aligning log, completed variants ::   0%|          | 0/17 [00:00<?, ?it/s]",
      "application/vnd.jupyter.widget-view+json": {
       "version_major": 2,
       "version_minor": 0,
       "model_id": "1cce6b4ffbb94ab08a6a7e74d7a9e8b4"
      }
     },
     "metadata": {},
     "output_type": "display_data"
    }
   ],
   "source": [
    "from pm4py.objects.log.importer.xes import importer as xes_importer\n",
    "from pm4py.algo.conformance.alignments.petri_net import algorithm as alignments\n",
    "def calculate_alignments(log,bpmn):\n",
    "\n",
    "    net, initial_marking, final_marking = pm4py.convert.convert_to_petri_net(bpmn)\n",
    "    aligned_traces = alignments.apply_log(log, net, initial_marking, final_marking)\n",
    "\n",
    "    return aligned_traces\n",
    "aligned_traces=calculate_alignments(log,bpmn)"
   ],
   "metadata": {
    "collapsed": false
   }
  },
  {
   "cell_type": "code",
   "execution_count": 74,
   "outputs": [],
   "source": [
    "from collections import defaultdict\n",
    "def get_conformance_by_event_attribute(log, aligned_traces):\n",
    "\n",
    "    # Get all attributes from events\n",
    "    event_attributes = pm4py.get_event_attributes(log)\n",
    "    trace_attributes = pm4py.get_trace_attributes(log)\n",
    "    event_attributes.remove('time:timestamp')\n",
    "    event_attributes.remove('concept:name')\n",
    "\n",
    "    print(event_attributes)\n",
    "    # Dictionary to hold: {attribute: {value: [fitness_scores]}}\n",
    "    attribute_conformance = defaultdict(lambda: defaultdict(list))\n",
    "\n",
    "    for i, trace in enumerate(log):\n",
    "        fitness = aligned_traces[i].get(\"fitness\", 0)\n",
    "\n",
    "        # ----- EVENT ATTRIBUTE PROCESSING -----\n",
    "        seen_event_values = defaultdict(set)\n",
    "        for event in trace:\n",
    "            for attr in event_attributes:\n",
    "                if attr in event:\n",
    "                    seen_event_values[attr].add(event[attr])\n",
    "\n",
    "        for attr, values in seen_event_values.items():\n",
    "            for value in values:\n",
    "                if value is not None:\n",
    "                    attribute_conformance[f\"event:{attr}\"][value].append(fitness)\n",
    "\n",
    "        # ----- TRACE ATTRIBUTE PROCESSING -----\n",
    "        for attr in trace_attributes:\n",
    "            if attr in trace.attributes:\n",
    "                value = trace.attributes[attr]\n",
    "                if value is not None:\n",
    "                    attribute_conformance[f\"trace:{attr}\"][value].append(fitness)\n",
    "\n",
    "\n",
    "\n",
    "\n",
    "    # Structure the results per attribute\n",
    "    result = {}\n",
    "    for attr, value_dict in attribute_conformance.items():\n",
    "        result[attr] = []\n",
    "        for value, scores in value_dict.items():\n",
    "            avg_conformance = sum(scores) / len(scores)\n",
    "            result[attr].append({\n",
    "                \"value\": value,\n",
    "                \"averageConformance\": round(avg_conformance, 4),\n",
    "                \"traceCount\": len(scores)\n",
    "            })\n",
    "\n",
    "    return result"
   ],
   "metadata": {
    "collapsed": false
   }
  },
  {
   "cell_type": "code",
   "execution_count": 75,
   "outputs": [
    {
     "name": "stdout",
     "output_type": "stream",
     "text": [
      "['Unnamed: 0', 'org:resource']\n"
     ]
    }
   ],
   "source": [
    "result=get_conformance_by_event_attribute(log, aligned_traces)"
   ],
   "metadata": {
    "collapsed": false
   }
  },
  {
   "cell_type": "code",
   "execution_count": 76,
   "outputs": [],
   "source": [
    "import xml.etree.ElementTree as ET\n",
    "def extract_desired_outcomes_from_bpmn(bpmn_path):\n",
    "    tree = ET.parse(bpmn_path)\n",
    "    root = tree.getroot()\n",
    "    ns = {'bpmn': 'http://www.omg.org/spec/BPMN/20100524/MODEL'}\n",
    "\n",
    "    end_events = root.findall(\".//bpmn:endEvent\", ns)\n",
    "    desired_outcomes = []\n",
    "\n",
    "    for event in end_events:\n",
    "        has_error_definition = event.find(\"bpmn:errorEventDefinition\", ns) is not None\n",
    "        if not has_error_definition:\n",
    "            incoming = event.find(\"bpmn:incoming\", ns)\n",
    "            if incoming is not None:\n",
    "                incoming_flow = incoming.text\n",
    "                seq_flows = root.findall(\".//bpmn:sequenceFlow\", ns)\n",
    "                for flow in seq_flows:\n",
    "                    if flow.get(\"id\") == incoming_flow:\n",
    "                        source_ref = flow.get(\"sourceRef\")\n",
    "                        task = root.find(f\".//bpmn:task[@id='{source_ref}']\", ns)\n",
    "                        if task is not None and \"name\" in task.attrib:\n",
    "                            desired_outcomes.append(task.attrib[\"name\"])\n",
    "\n",
    "    return list(set(desired_outcomes))"
   ],
   "metadata": {
    "collapsed": false
   }
  },
  {
   "cell_type": "code",
   "execution_count": 77,
   "outputs": [
    {
     "data": {
      "text/plain": "[]"
     },
     "execution_count": 77,
     "metadata": {},
     "output_type": "execute_result"
    }
   ],
   "source": [
    "extract_desired_outcomes_from_bpmn(file)"
   ],
   "metadata": {
    "collapsed": false
   }
  },
  {
   "cell_type": "code",
   "execution_count": 93,
   "outputs": [
    {
     "name": "stdout",
     "output_type": "stream",
     "text": [
      "{'A_ACTIVATED', 'A_REGISTERED', 'A_DECLINED', 'A_CANCELLED'}\n"
     ]
    }
   ],
   "source": [
    "bpmn_model = pm4py.read_bpmn(file)\n",
    "net, im, fm = pm4py.convert.convert_to_petri_net(bpmn_model)\n",
    "\n",
    "from pm4py.objects.petri_net.utils import petri_utils\n",
    "\n",
    "def get_visible_end_activities(net, final_marking):\n",
    "    end_activities = set()\n",
    "\n",
    "    def backtrack(place, visited):\n",
    "        \"\"\"Recursive search backwards from a place until we find visible transitions.\"\"\"\n",
    "        if place in visited:\n",
    "            return\n",
    "        visited.add(place)\n",
    "\n",
    "        for arc in place.in_arcs:\n",
    "            t = arc.source\n",
    "            if t.label:  # visible\n",
    "                end_activities.add(t.label)\n",
    "            else:  # invisible\n",
    "                for p2 in t.in_arcs:\n",
    "                    backtrack(p2.source, visited)\n",
    "\n",
    "    # Start from final places\n",
    "    for place in final_marking:\n",
    "        backtrack(place, set())\n",
    "\n",
    "    return end_activities\n",
    "\n",
    "# Example usage:\n",
    "# net, im, fm = your Petri net, initial marking, final marking\n",
    "ends = get_visible_end_activities(net, fm)\n",
    "print(ends)"
   ],
   "metadata": {
    "collapsed": false
   }
  },
  {
   "cell_type": "code",
   "execution_count": 84,
   "outputs": [
    {
     "data": {
      "image/svg+xml": "<?xml version=\"1.0\" encoding=\"UTF-8\" standalone=\"no\"?>\n<!DOCTYPE svg PUBLIC \"-//W3C//DTD SVG 1.1//EN\"\n \"http://www.w3.org/Graphics/SVG/1.1/DTD/svg11.dtd\">\n<!-- Generated by graphviz version 9.0.0 (20230911.1827)\n -->\n<!-- Pages: 1 -->\n<svg width=\"2117pt\" height=\"267pt\"\n viewBox=\"0.00 0.00 2116.50 267.00\" xmlns=\"http://www.w3.org/2000/svg\" xmlns:xlink=\"http://www.w3.org/1999/xlink\">\n<g id=\"graph0\" class=\"graph\" transform=\"scale(1 1) rotate(0) translate(4 263)\">\n<polygon fill=\"white\" stroke=\"none\" points=\"-4,4 -4,-263 2112.5,-263 2112.5,4 -4,4\"/>\n<!-- 6319251712 -->\n<g id=\"node1\" class=\"node\">\n<title>6319251712</title>\n<polygon fill=\"white\" stroke=\"black\" points=\"461,-67 316.75,-67 316.75,-31 461,-31 461,-67\"/>\n<text text-anchor=\"middle\" x=\"388.88\" y=\"-44.73\" font-family=\"Times,serif\" font-size=\"12.00\">A_PARTLYSUBMITTED</text>\n</g>\n<!-- 6319286496 -->\n<g id=\"node26\" class=\"node\">\n<title>6319286496</title>\n<ellipse fill=\"white\" stroke=\"black\" cx=\"524\" cy=\"-49\" rx=\"27\" ry=\"27\"/>\n</g>\n<!-- 6319251712&#45;&gt;6319286496 -->\n<g id=\"edge27\" class=\"edge\">\n<title>6319251712&#45;&gt;6319286496</title>\n<path fill=\"none\" stroke=\"black\" d=\"M461.11,-49C469.47,-49 477.73,-49 485.36,-49\"/>\n<polygon fill=\"black\" stroke=\"black\" points=\"485.24,-52.5 495.24,-49 485.24,-45.5 485.24,-52.5\"/>\n</g>\n<!-- 6319284864 -->\n<g id=\"node2\" class=\"node\">\n<title>6319284864</title>\n<polygon fill=\"white\" stroke=\"black\" points=\"704.25,-94 587,-94 587,-58 704.25,-58 704.25,-94\"/>\n<text text-anchor=\"middle\" x=\"645.62\" y=\"-71.72\" font-family=\"Times,serif\" font-size=\"12.00\">A_PREACCEPTED</text>\n</g>\n<!-- 6319254592 -->\n<g id=\"node24\" class=\"node\">\n<title>6319254592</title>\n<ellipse fill=\"white\" stroke=\"black\" cx=\"767.25\" cy=\"-81\" rx=\"27\" ry=\"27\"/>\n</g>\n<!-- 6319284864&#45;&gt;6319254592 -->\n<g id=\"edge24\" class=\"edge\">\n<title>6319284864&#45;&gt;6319254592</title>\n<path fill=\"none\" stroke=\"black\" d=\"M704.69,-78.43C712.81,-78.77 720.98,-79.11 728.59,-79.43\"/>\n<polygon fill=\"black\" stroke=\"black\" points=\"728.36,-82.92 738.49,-79.84 728.65,-75.93 728.36,-82.92\"/>\n</g>\n<!-- 6319284624 -->\n<g id=\"node3\" class=\"node\">\n<title>6319284624</title>\n<polygon fill=\"black\" stroke=\"black\" points=\"1805.25,-187 1751.25,-187 1751.25,-151 1805.25,-151 1805.25,-187\"/>\n</g>\n<!-- 6319253392 -->\n<g id=\"node20\" class=\"node\">\n<title>6319253392</title>\n<ellipse fill=\"white\" stroke=\"black\" cx=\"1893.5\" cy=\"-115\" rx=\"27\" ry=\"27\"/>\n</g>\n<!-- 6319284624&#45;&gt;6319253392 -->\n<g id=\"edge1\" class=\"edge\">\n<title>6319284624&#45;&gt;6319253392</title>\n<path fill=\"none\" stroke=\"black\" d=\"M1805.52,-156.48C1821.32,-148.94 1841.6,-139.27 1858.6,-131.17\"/>\n<polygon fill=\"black\" stroke=\"black\" points=\"1859.8,-134.47 1867.32,-127 1856.79,-128.15 1859.8,-134.47\"/>\n</g>\n<!-- 6319253152 -->\n<g id=\"node4\" class=\"node\">\n<title>6319253152</title>\n<polygon fill=\"white\" stroke=\"black\" points=\"1368,-216 1271.75,-216 1271.75,-180 1368,-180 1368,-216\"/>\n<text text-anchor=\"middle\" x=\"1319.88\" y=\"-193.72\" font-family=\"Times,serif\" font-size=\"12.00\">A_APPROVED</text>\n</g>\n<!-- 6319286832 -->\n<g id=\"node19\" class=\"node\">\n<title>6319286832</title>\n<ellipse fill=\"white\" stroke=\"black\" cx=\"1431\" cy=\"-232\" rx=\"27\" ry=\"27\"/>\n</g>\n<!-- 6319253152&#45;&gt;6319286832 -->\n<g id=\"edge19\" class=\"edge\">\n<title>6319253152&#45;&gt;6319286832</title>\n<path fill=\"none\" stroke=\"black\" d=\"M1368.42,-212.81C1376.93,-215.47 1385.67,-218.19 1393.8,-220.72\"/>\n<polygon fill=\"black\" stroke=\"black\" points=\"1392.76,-224.06 1403.35,-223.7 1394.84,-217.38 1392.76,-224.06\"/>\n</g>\n<!-- 6318563584 -->\n<g id=\"node21\" class=\"node\">\n<title>6318563584</title>\n<ellipse fill=\"white\" stroke=\"black\" cx=\"1431\" cy=\"-160\" rx=\"27\" ry=\"27\"/>\n</g>\n<!-- 6319253152&#45;&gt;6318563584 -->\n<g id=\"edge20\" class=\"edge\">\n<title>6319253152&#45;&gt;6318563584</title>\n<path fill=\"none\" stroke=\"black\" d=\"M1368.42,-181.44C1377.11,-178.42 1386.04,-175.31 1394.31,-172.43\"/>\n<polygon fill=\"black\" stroke=\"black\" points=\"1395.37,-175.77 1403.66,-169.17 1393.06,-169.16 1395.37,-175.77\"/>\n</g>\n<!-- 6319287456 -->\n<g id=\"node5\" class=\"node\">\n<title>6319287456</title>\n<polygon fill=\"white\" stroke=\"black\" points=\"1145.75,-182 1051,-182 1051,-146 1145.75,-146 1145.75,-182\"/>\n<text text-anchor=\"middle\" x=\"1098.38\" y=\"-159.72\" font-family=\"Times,serif\" font-size=\"12.00\">A_FINALIZED</text>\n</g>\n<!-- 6319286064 -->\n<g id=\"node27\" class=\"node\">\n<title>6319286064</title>\n<ellipse fill=\"white\" stroke=\"black\" cx=\"1208.75\" cy=\"-169\" rx=\"27\" ry=\"27\"/>\n</g>\n<!-- 6319287456&#45;&gt;6319286064 -->\n<g id=\"edge18\" class=\"edge\">\n<title>6319287456&#45;&gt;6319286064</title>\n<path fill=\"none\" stroke=\"black\" d=\"M1145.96,-166.15C1154.04,-166.52 1162.35,-166.91 1170.15,-167.27\"/>\n<polygon fill=\"black\" stroke=\"black\" points=\"1169.84,-170.75 1179.99,-167.72 1170.16,-163.76 1169.84,-170.75\"/>\n</g>\n<!-- 6319285296 -->\n<g id=\"node6\" class=\"node\">\n<title>6319285296</title>\n<polygon fill=\"white\" stroke=\"black\" points=\"925,-140 830.25,-140 830.25,-104 925,-104 925,-140\"/>\n<text text-anchor=\"middle\" x=\"877.62\" y=\"-117.72\" font-family=\"Times,serif\" font-size=\"12.00\">A_ACCEPTED</text>\n</g>\n<!-- 6318564592 -->\n<g id=\"node25\" class=\"node\">\n<title>6318564592</title>\n<ellipse fill=\"white\" stroke=\"black\" cx=\"988\" cy=\"-127\" rx=\"27\" ry=\"27\"/>\n</g>\n<!-- 6319285296&#45;&gt;6318564592 -->\n<g id=\"edge26\" class=\"edge\">\n<title>6319285296&#45;&gt;6318564592</title>\n<path fill=\"none\" stroke=\"black\" d=\"M925.21,-124.15C933.29,-124.52 941.6,-124.91 949.4,-125.27\"/>\n<polygon fill=\"black\" stroke=\"black\" points=\"949.09,-128.75 959.24,-125.72 949.41,-121.76 949.09,-128.75\"/>\n</g>\n<!-- 6318563392 -->\n<g id=\"node7\" class=\"node\">\n<title>6318563392</title>\n<polygon fill=\"white\" stroke=\"black\" points=\"1596.25,-178 1497.75,-178 1497.75,-142 1596.25,-142 1596.25,-178\"/>\n<text text-anchor=\"middle\" x=\"1547\" y=\"-155.72\" font-family=\"Times,serif\" font-size=\"12.00\">A_ACTIVATED</text>\n</g>\n<!-- 6319158464 -->\n<g id=\"node29\" class=\"node\">\n<title>6319158464</title>\n<ellipse fill=\"white\" stroke=\"black\" cx=\"1663\" cy=\"-160\" rx=\"27\" ry=\"27\"/>\n</g>\n<!-- 6318563392&#45;&gt;6319158464 -->\n<g id=\"edge25\" class=\"edge\">\n<title>6318563392&#45;&gt;6319158464</title>\n<path fill=\"none\" stroke=\"black\" d=\"M1596.68,-160C1606.02,-160 1615.66,-160 1624.58,-160\"/>\n<polygon fill=\"black\" stroke=\"black\" points=\"1624.29,-163.5 1634.29,-160 1624.29,-156.5 1624.29,-163.5\"/>\n</g>\n<!-- 6319253584 -->\n<g id=\"node8\" class=\"node\">\n<title>6319253584</title>\n<polygon fill=\"black\" stroke=\"black\" points=\"2010.5,-133 1956.5,-133 1956.5,-97 2010.5,-97 2010.5,-133\"/>\n</g>\n<!-- 6319158080 -->\n<g id=\"node31\" class=\"node\">\n<title>6319158080</title>\n<ellipse fill=\"white\" stroke=\"black\" cx=\"2077.5\" cy=\"-115\" rx=\"27\" ry=\"27\"/>\n<ellipse fill=\"none\" stroke=\"black\" cx=\"2077.5\" cy=\"-115\" rx=\"31\" ry=\"31\"/>\n<text text-anchor=\"start\" x=\"2067.75\" y=\"-102.97\" font-family=\"Times,serif\" font-size=\"32.00\">■</text>\n</g>\n<!-- 6319253584&#45;&gt;6319158080 -->\n<g id=\"edge23\" class=\"edge\">\n<title>6319253584&#45;&gt;6319158080</title>\n<path fill=\"none\" stroke=\"black\" d=\"M2010.62,-115C2018.13,-115 2026.51,-115 2034.72,-115\"/>\n<polygon fill=\"black\" stroke=\"black\" points=\"2034.58,-118.5 2044.58,-115 2034.58,-111.5 2034.58,-118.5\"/>\n</g>\n<!-- 6319255120 -->\n<g id=\"node9\" class=\"node\">\n<title>6319255120</title>\n<polygon fill=\"white\" stroke=\"black\" points=\"190.75,-67 90,-67 90,-31 190.75,-31 190.75,-67\"/>\n<text text-anchor=\"middle\" x=\"140.38\" y=\"-44.73\" font-family=\"Times,serif\" font-size=\"12.00\">A_SUBMITTED</text>\n</g>\n<!-- 6319251520 -->\n<g id=\"node22\" class=\"node\">\n<title>6319251520</title>\n<ellipse fill=\"white\" stroke=\"black\" cx=\"253.75\" cy=\"-49\" rx=\"27\" ry=\"27\"/>\n</g>\n<!-- 6319255120&#45;&gt;6319251520 -->\n<g id=\"edge28\" class=\"edge\">\n<title>6319255120&#45;&gt;6319251520</title>\n<path fill=\"none\" stroke=\"black\" d=\"M191.2,-49C199.18,-49 207.33,-49 214.97,-49\"/>\n<polygon fill=\"black\" stroke=\"black\" points=\"214.95,-52.5 224.95,-49 214.95,-45.5 214.95,-52.5\"/>\n</g>\n<!-- 6319356368 -->\n<g id=\"node10\" class=\"node\">\n<title>6319356368</title>\n<polygon fill=\"black\" stroke=\"black\" points=\"794.25,-36 740.25,-36 740.25,0 794.25,0 794.25,-36\"/>\n</g>\n<!-- 6319252528 -->\n<g id=\"node23\" class=\"node\">\n<title>6319252528</title>\n<ellipse fill=\"white\" stroke=\"black\" cx=\"1431\" cy=\"-79\" rx=\"27\" ry=\"27\"/>\n</g>\n<!-- 6319356368&#45;&gt;6319252528 -->\n<g id=\"edge35\" class=\"edge\">\n<title>6319356368&#45;&gt;6319252528</title>\n<path fill=\"none\" stroke=\"black\" d=\"M794.51,-18C835.58,-18 917.5,-18 987,-18 987,-18 987,-18 1209.75,-18 1277.64,-18 1353.17,-45.25 1395.8,-63.32\"/>\n<polygon fill=\"black\" stroke=\"black\" points=\"1394.2,-66.45 1404.77,-67.21 1396.98,-60.02 1394.2,-66.45\"/>\n</g>\n<!-- 6319285728 -->\n<g id=\"node11\" class=\"node\">\n<title>6319285728</title>\n<polygon fill=\"white\" stroke=\"black\" points=\"1830.5,-133 1726,-133 1726,-97 1830.5,-97 1830.5,-133\"/>\n<text text-anchor=\"middle\" x=\"1778.25\" y=\"-110.72\" font-family=\"Times,serif\" font-size=\"12.00\">A_CANCELLED</text>\n</g>\n<!-- 6319285728&#45;&gt;6319253392 -->\n<g id=\"edge22\" class=\"edge\">\n<title>6319285728&#45;&gt;6319253392</title>\n<path fill=\"none\" stroke=\"black\" d=\"M1830.9,-115C1838.94,-115 1847.12,-115 1854.77,-115\"/>\n<polygon fill=\"black\" stroke=\"black\" points=\"1854.76,-118.5 1864.76,-115 1854.76,-111.5 1854.76,-118.5\"/>\n</g>\n<!-- 6319321824 -->\n<g id=\"node12\" class=\"node\">\n<title>6319321824</title>\n<polygon fill=\"black\" stroke=\"black\" points=\"1015,-82 961,-82 961,-46 1015,-46 1015,-82\"/>\n</g>\n<!-- 6319321824&#45;&gt;6319252528 -->\n<g id=\"edge34\" class=\"edge\">\n<title>6319321824&#45;&gt;6319252528</title>\n<path fill=\"none\" stroke=\"black\" d=\"M1015.27,-64.89C1090.09,-67.44 1304.58,-74.73 1392.11,-77.71\"/>\n<polygon fill=\"black\" stroke=\"black\" points=\"1391.97,-81.21 1402.08,-78.05 1392.21,-74.21 1391.97,-81.21\"/>\n</g>\n<!-- 6319252720 -->\n<g id=\"node13\" class=\"node\">\n<title>6319252720</title>\n<polygon fill=\"black\" stroke=\"black\" points=\"1574,-97 1520,-97 1520,-61 1574,-61 1574,-97\"/>\n</g>\n<!-- 6319252624 -->\n<g id=\"node28\" class=\"node\">\n<title>6319252624</title>\n<ellipse fill=\"white\" stroke=\"black\" cx=\"1663\" cy=\"-79\" rx=\"27\" ry=\"27\"/>\n</g>\n<!-- 6319252720&#45;&gt;6319252624 -->\n<g id=\"edge31\" class=\"edge\">\n<title>6319252720&#45;&gt;6319252624</title>\n<path fill=\"none\" stroke=\"black\" d=\"M1574.44,-79C1589.26,-79 1607.99,-79 1624.33,-79\"/>\n<polygon fill=\"black\" stroke=\"black\" points=\"1624.19,-82.5 1634.19,-79 1624.19,-75.5 1624.19,-82.5\"/>\n</g>\n<!-- 6319254256 -->\n<g id=\"node14\" class=\"node\">\n<title>6319254256</title>\n<polygon fill=\"white\" stroke=\"black\" points=\"1824.5,-79 1732,-79 1732,-43 1824.5,-43 1824.5,-79\"/>\n<text text-anchor=\"middle\" x=\"1778.25\" y=\"-56.73\" font-family=\"Times,serif\" font-size=\"12.00\">A_DECLINED</text>\n</g>\n<!-- 6319254256&#45;&gt;6319253392 -->\n<g id=\"edge30\" class=\"edge\">\n<title>6319254256&#45;&gt;6319253392</title>\n<path fill=\"none\" stroke=\"black\" d=\"M1817.91,-79.43C1831.02,-85.69 1845.57,-92.62 1858.32,-98.7\"/>\n<polygon fill=\"black\" stroke=\"black\" points=\"1856.62,-101.77 1867.16,-102.92 1859.64,-95.45 1856.62,-101.77\"/>\n</g>\n<!-- 6319287024 -->\n<g id=\"node15\" class=\"node\">\n<title>6319287024</title>\n<polygon fill=\"white\" stroke=\"black\" points=\"1600,-250 1494,-250 1494,-214 1600,-214 1600,-250\"/>\n<text text-anchor=\"middle\" x=\"1547\" y=\"-227.72\" font-family=\"Times,serif\" font-size=\"12.00\">A_REGISTERED</text>\n</g>\n<!-- 6318566032 -->\n<g id=\"node30\" class=\"node\">\n<title>6318566032</title>\n<ellipse fill=\"white\" stroke=\"black\" cx=\"1663\" cy=\"-232\" rx=\"27\" ry=\"27\"/>\n</g>\n<!-- 6319287024&#45;&gt;6318566032 -->\n<g id=\"edge21\" class=\"edge\">\n<title>6319287024&#45;&gt;6318566032</title>\n<path fill=\"none\" stroke=\"black\" d=\"M1600.33,-232C1608.49,-232 1616.78,-232 1624.53,-232\"/>\n<polygon fill=\"black\" stroke=\"black\" points=\"1624.26,-235.5 1634.26,-232 1624.26,-228.5 1624.26,-235.5\"/>\n</g>\n<!-- 6319323120 -->\n<g id=\"node16\" class=\"node\">\n<title>6319323120</title>\n<polygon fill=\"black\" stroke=\"black\" points=\"1235.75,-124 1181.75,-124 1181.75,-88 1235.75,-88 1235.75,-124\"/>\n</g>\n<!-- 6319323120&#45;&gt;6319252528 -->\n<g id=\"edge33\" class=\"edge\">\n<title>6319323120&#45;&gt;6319252528</title>\n<path fill=\"none\" stroke=\"black\" d=\"M1235.88,-102.8C1274.79,-98.03 1348.15,-89.03 1392.7,-83.57\"/>\n<polygon fill=\"black\" stroke=\"black\" points=\"1392.9,-87.07 1402.4,-82.38 1392.05,-80.13 1392.9,-87.07\"/>\n</g>\n<!-- 6319325040 -->\n<g id=\"node17\" class=\"node\">\n<title>6319325040</title>\n<polygon fill=\"black\" stroke=\"black\" points=\"1346.88,-162 1292.88,-162 1292.88,-126 1346.88,-126 1346.88,-162\"/>\n</g>\n<!-- 6319325040&#45;&gt;6319252528 -->\n<g id=\"edge32\" class=\"edge\">\n<title>6319325040&#45;&gt;6319252528</title>\n<path fill=\"none\" stroke=\"black\" d=\"M1347.29,-128.27C1362.44,-119.24 1381.57,-107.84 1397.62,-98.29\"/>\n<polygon fill=\"black\" stroke=\"black\" points=\"1399.05,-101.51 1405.85,-93.38 1395.47,-95.49 1399.05,-101.51\"/>\n</g>\n<!-- 6318548928 -->\n<g id=\"node18\" class=\"node\">\n<title>6318548928</title>\n<ellipse fill=\"white\" stroke=\"black\" cx=\"27\" cy=\"-49\" rx=\"27\" ry=\"27\"/>\n<text text-anchor=\"start\" x=\"16.88\" y=\"-35.83\" font-family=\"Times,serif\" font-size=\"34.00\">●</text>\n</g>\n<!-- 6318548928&#45;&gt;6319255120 -->\n<g id=\"edge36\" class=\"edge\">\n<title>6318548928&#45;&gt;6319255120</title>\n<path fill=\"none\" stroke=\"black\" d=\"M54.39,-49C61.65,-49 69.83,-49 78.17,-49\"/>\n<polygon fill=\"black\" stroke=\"black\" points=\"78.07,-52.5 88.07,-49 78.07,-45.5 78.07,-52.5\"/>\n</g>\n<!-- 6319286832&#45;&gt;6319287024 -->\n<g id=\"edge2\" class=\"edge\">\n<title>6319286832&#45;&gt;6319287024</title>\n<path fill=\"none\" stroke=\"black\" d=\"M1458.44,-232C1465.68,-232 1473.84,-232 1482.21,-232\"/>\n<polygon fill=\"black\" stroke=\"black\" points=\"1482.16,-235.5 1492.16,-232 1482.16,-228.5 1482.16,-235.5\"/>\n</g>\n<!-- 6319253392&#45;&gt;6319253584 -->\n<g id=\"edge3\" class=\"edge\">\n<title>6319253392&#45;&gt;6319253584</title>\n<path fill=\"none\" stroke=\"black\" d=\"M1920.9,-115C1928.39,-115 1936.68,-115 1944.7,-115\"/>\n<polygon fill=\"black\" stroke=\"black\" points=\"1944.6,-118.5 1954.6,-115 1944.6,-111.5 1944.6,-118.5\"/>\n</g>\n<!-- 6318563584&#45;&gt;6318563392 -->\n<g id=\"edge4\" class=\"edge\">\n<title>6318563584&#45;&gt;6318563392</title>\n<path fill=\"none\" stroke=\"black\" d=\"M1458.44,-160C1466.76,-160 1476.31,-160 1485.98,-160\"/>\n<polygon fill=\"black\" stroke=\"black\" points=\"1485.81,-163.5 1495.81,-160 1485.81,-156.5 1485.81,-163.5\"/>\n</g>\n<!-- 6319251520&#45;&gt;6319251712 -->\n<g id=\"edge5\" class=\"edge\">\n<title>6319251520&#45;&gt;6319251712</title>\n<path fill=\"none\" stroke=\"black\" d=\"M281.05,-49C288.22,-49 296.38,-49 304.93,-49\"/>\n<polygon fill=\"black\" stroke=\"black\" points=\"304.82,-52.5 314.82,-49 304.82,-45.5 304.82,-52.5\"/>\n</g>\n<!-- 6319252528&#45;&gt;6319252720 -->\n<g id=\"edge6\" class=\"edge\">\n<title>6319252528&#45;&gt;6319252720</title>\n<path fill=\"none\" stroke=\"black\" d=\"M1458.44,-79C1473.26,-79 1491.99,-79 1508.33,-79\"/>\n<polygon fill=\"black\" stroke=\"black\" points=\"1508.19,-82.5 1518.19,-79 1508.19,-75.5 1508.19,-82.5\"/>\n</g>\n<!-- 6319254592&#45;&gt;6319285296 -->\n<g id=\"edge7\" class=\"edge\">\n<title>6319254592&#45;&gt;6319285296</title>\n<path fill=\"none\" stroke=\"black\" d=\"M792.84,-90.3C800.83,-93.32 810.05,-96.81 819.4,-100.35\"/>\n<polygon fill=\"black\" stroke=\"black\" points=\"817.93,-103.54 828.52,-103.8 820.41,-96.99 817.93,-103.54\"/>\n</g>\n<!-- 6319254592&#45;&gt;6319321824 -->\n<g id=\"edge8\" class=\"edge\">\n<title>6319254592&#45;&gt;6319321824</title>\n<path fill=\"none\" stroke=\"black\" d=\"M794.64,-78.95C833.15,-75.96 904.97,-70.38 949.12,-66.94\"/>\n<polygon fill=\"black\" stroke=\"black\" points=\"949.31,-70.44 959.01,-66.18 948.77,-63.46 949.31,-70.44\"/>\n</g>\n<!-- 6318564592&#45;&gt;6319287456 -->\n<g id=\"edge9\" class=\"edge\">\n<title>6318564592&#45;&gt;6319287456</title>\n<path fill=\"none\" stroke=\"black\" d=\"M1013.86,-135.49C1021.77,-138.19 1030.87,-141.29 1040.08,-144.44\"/>\n<polygon fill=\"black\" stroke=\"black\" points=\"1038.87,-147.72 1049.46,-147.64 1041.13,-141.1 1038.87,-147.72\"/>\n</g>\n<!-- 6318564592&#45;&gt;6319323120 -->\n<g id=\"edge10\" class=\"edge\">\n<title>6318564592&#45;&gt;6319323120</title>\n<path fill=\"none\" stroke=\"black\" d=\"M1014.95,-124.51C1053.41,-120.82 1125.76,-113.87 1170.06,-109.62\"/>\n<polygon fill=\"black\" stroke=\"black\" points=\"1170.36,-113.11 1179.98,-108.67 1169.7,-106.14 1170.36,-113.11\"/>\n</g>\n<!-- 6319286496&#45;&gt;6319284864 -->\n<g id=\"edge11\" class=\"edge\">\n<title>6319286496&#45;&gt;6319284864</title>\n<path fill=\"none\" stroke=\"black\" d=\"M550.66,-54.79C558.1,-56.47 566.59,-58.39 575.36,-60.37\"/>\n<polygon fill=\"black\" stroke=\"black\" points=\"574.56,-63.77 585.08,-62.56 576.1,-56.94 574.56,-63.77\"/>\n</g>\n<!-- 6319286496&#45;&gt;6319356368 -->\n<g id=\"edge12\" class=\"edge\">\n<title>6319286496&#45;&gt;6319356368</title>\n<path fill=\"none\" stroke=\"black\" d=\"M551.28,-45.62C594.15,-40.11 679.29,-29.17 728.59,-22.84\"/>\n<polygon fill=\"black\" stroke=\"black\" points=\"729.03,-26.31 738.5,-21.57 728.14,-19.37 729.03,-26.31\"/>\n</g>\n<!-- 6319286064&#45;&gt;6319253152 -->\n<g id=\"edge13\" class=\"edge\">\n<title>6319286064&#45;&gt;6319253152</title>\n<path fill=\"none\" stroke=\"black\" d=\"M1235.33,-175.8C1243.04,-177.85 1251.83,-180.18 1260.74,-182.55\"/>\n<polygon fill=\"black\" stroke=\"black\" points=\"1259.59,-185.87 1270.16,-185.05 1261.39,-179.1 1259.59,-185.87\"/>\n</g>\n<!-- 6319286064&#45;&gt;6319325040 -->\n<g id=\"edge14\" class=\"edge\">\n<title>6319286064&#45;&gt;6319325040</title>\n<path fill=\"none\" stroke=\"black\" d=\"M1235.33,-163.14C1249.09,-159.99 1266.31,-156.04 1281.53,-152.56\"/>\n<polygon fill=\"black\" stroke=\"black\" points=\"1282.25,-155.98 1291.22,-150.34 1280.69,-149.16 1282.25,-155.98\"/>\n</g>\n<!-- 6319252624&#45;&gt;6319285728 -->\n<g id=\"edge15\" class=\"edge\">\n<title>6319252624&#45;&gt;6319285728</title>\n<path fill=\"none\" stroke=\"black\" d=\"M1689.13,-86.99C1696.91,-89.46 1705.85,-92.3 1714.98,-95.21\"/>\n<polygon fill=\"black\" stroke=\"black\" points=\"1713.7,-98.47 1724.29,-98.17 1715.82,-91.8 1713.7,-98.47\"/>\n</g>\n<!-- 6319252624&#45;&gt;6319254256 -->\n<g id=\"edge16\" class=\"edge\">\n<title>6319252624&#45;&gt;6319254256</title>\n<path fill=\"none\" stroke=\"black\" d=\"M1689.98,-74.87C1699.19,-73.41 1709.95,-71.7 1720.7,-69.99\"/>\n<polygon fill=\"black\" stroke=\"black\" points=\"1721.02,-73.48 1730.34,-68.46 1719.92,-66.57 1721.02,-73.48\"/>\n</g>\n<!-- 6319158464&#45;&gt;6319284624 -->\n<g id=\"edge17\" class=\"edge\">\n<title>6319158464&#45;&gt;6319284624</title>\n<path fill=\"none\" stroke=\"black\" d=\"M1690.27,-162.09C1704.99,-163.26 1723.6,-164.74 1739.82,-166.03\"/>\n<polygon fill=\"black\" stroke=\"black\" points=\"1739.37,-169.5 1749.62,-166.8 1739.93,-162.52 1739.37,-169.5\"/>\n</g>\n<!-- 6318566032&#45;&gt;6319284624 -->\n<g id=\"edge29\" class=\"edge\">\n<title>6318566032&#45;&gt;6319284624</title>\n<path fill=\"none\" stroke=\"black\" d=\"M1687.19,-219.1C1702.66,-210.49 1723.32,-199 1740.95,-189.19\"/>\n<polygon fill=\"black\" stroke=\"black\" points=\"1742.56,-192.3 1749.6,-184.38 1739.15,-186.19 1742.56,-192.3\"/>\n</g>\n</g>\n</svg>\n",
      "text/plain": "<graphviz.graphs.Digraph at 0x16a958af0>"
     },
     "execution_count": 84,
     "metadata": {},
     "output_type": "execute_result"
    }
   ],
   "source": [
    "pm4py.visualization.petri_net.visualizer.apply(net,im,fm)"
   ],
   "metadata": {
    "collapsed": false
   }
  },
  {
   "cell_type": "code",
   "execution_count": 92,
   "outputs": [
    {
     "data": {
      "text/plain": "<pm4py.objects.bpmn.obj.BPMN at 0x1751e2880>"
     },
     "execution_count": 92,
     "metadata": {},
     "output_type": "execute_result"
    }
   ],
   "source": [
    "bpmn_model"
   ],
   "metadata": {
    "collapsed": false
   }
  },
  {
   "cell_type": "code",
   "execution_count": null,
   "outputs": [],
   "source": [],
   "metadata": {
    "collapsed": false
   }
  }
 ]
}
